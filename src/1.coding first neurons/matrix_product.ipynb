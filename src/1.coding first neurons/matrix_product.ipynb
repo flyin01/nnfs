{
 "cells": [
  {
   "cell_type": "markdown",
   "metadata": {},
   "source": [
    "A **matrix product** is the operation when we have 2 matrices and we perform the dot product of all combinations of rows from the first matrix and the columns of the seconds matrix, which results in a matrox of those **dot products**."
   ]
  },
  {
   "cell_type": "markdown",
   "metadata": {},
   "source": [
    "First, we do the matrix product on vectors. We can have two types of vectors, a column vector and a row vector. All though they are vectors they can be represented as matrices with one of their dimensions having size 1."
   ]
  },
  {
   "cell_type": "markdown",
   "metadata": {},
   "source": [
    "a = [1 2 3]  \n",
    "  \n",
    "a is a row vector. It looks similar to a vectora (with an arrow above it). The difference between row vector and a vector are commas between values and the arrow above the symbol a is missing on a row vetor. **The name row vector imples it is a vector of a row in a matrix**.  \n",
    "  \n",
    "..... [1]  \n",
    "b=|2|  \n",
    "..... [3]  \n",
    "  \n",
    "\n",
    "b, is instead called a column vector because it is a column of a matrix.  "
   ]
  },
  {
   "cell_type": "code",
   "execution_count": 1,
   "metadata": {},
   "outputs": [],
   "source": [
    "import numpy as np"
   ]
  },
  {
   "cell_type": "code",
   "execution_count": 2,
   "metadata": {},
   "outputs": [
    {
     "name": "stdout",
     "output_type": "stream",
     "text": [
      "[[1 2 3]]\n"
     ]
    }
   ],
   "source": [
    "a = [1, 2, 3] # list\n",
    "print(np.array([a]))"
   ]
  },
  {
   "cell_type": "markdown",
   "metadata": {},
   "source": [
    "We encased the list a in brackets [a] before converting it to an array. We can also do as below. As row vectors and column vectors are technically matrices, we do not denote them with vector arrows anymore. We can now perform a matrix product on them and the result becomes a matrix also, but in this case it will contain just one single value."
   ]
  },
  {
   "cell_type": "code",
   "execution_count": 3,
   "metadata": {},
   "outputs": [
    {
     "name": "stdout",
     "output_type": "stream",
     "text": [
      "[[1 2 3]]\n"
     ]
    }
   ],
   "source": [
    "print(np.expand_dims(np.array(a), axis=0))"
   ]
  },
  {
   "cell_type": "markdown",
   "metadata": {},
   "source": [
    "**Transpose**"
   ]
  },
  {
   "cell_type": "markdown",
   "metadata": {},
   "source": [
    "We perform a martix product on these two matrices instead of dot product which gives us a result as a one value matrix. The shape of the matrixes are (1,**3**) and (**3**,1). The **index 1** of first matrix and **index 0** of the second matrix must match. They will not match unless we transpose. That is the reason we need to **transpose** the second matrix. "
   ]
  },
  {
   "cell_type": "code",
   "execution_count": 4,
   "metadata": {},
   "outputs": [
    {
     "name": "stdout",
     "output_type": "stream",
     "text": [
      "[[20]]\n"
     ]
    }
   ],
   "source": [
    "a = [1, 2, 3]\n",
    "b = [2, 3, 4]\n",
    "\n",
    "a = np.array([a])\n",
    "b = np.array([b]).T  # transpose\n",
    "\n",
    "print(np.dot(a,b)) \n",
    "# the dot product and matrix products are both implemented in a single\n",
    "# method in numpy: np.dot()"
   ]
  }
 ],
 "metadata": {
  "kernelspec": {
   "display_name": "Python 3",
   "language": "python",
   "name": "python3"
  },
  "language_info": {
   "codemirror_mode": {
    "name": "ipython",
    "version": 3
   },
   "file_extension": ".py",
   "mimetype": "text/x-python",
   "name": "python",
   "nbconvert_exporter": "python",
   "pygments_lexer": "ipython3",
   "version": "3.8.5"
  }
 },
 "nbformat": 4,
 "nbformat_minor": 4
}
