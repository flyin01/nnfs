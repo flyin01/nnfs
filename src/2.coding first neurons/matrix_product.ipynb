{
 "cells": [
  {
   "cell_type": "markdown",
   "metadata": {},
   "source": [
    "A **matrix product** is the operation when we have 2 matrices and we perform the dot product of all combinations of rows from the first matrix and the columns of the seconds matrix, which results in a matrox of those **dot products**."
   ]
  },
  {
   "cell_type": "markdown",
   "metadata": {},
   "source": [
    "First, we do the matrix product on vectors. We can have two types of vectors, a column vector and a row vector. All though they are vectors they can be represented as matrices with one of their dimensions having size 1."
   ]
  },
  {
   "cell_type": "markdown",
   "metadata": {},
   "source": [
    "a = [1 2 3]  \n",
    "  \n",
    "a is a row vector. It looks similar to a vectora (with an arrow above it). The difference between row vector and a vector are commas between values and the arrow above the symbol a is missing on a row vetor. **The name row vector imples it is a vector of a row in a matrix**.  \n",
    "  \n",
    ".....[2]  \n",
    "b=|3|  \n",
    ".....[4]  \n",
    "  \n",
    "\n",
    "b, is instead called a column vector because it is a column of a matrix.  "
   ]
  },
  {
   "cell_type": "code",
   "execution_count": 1,
   "metadata": {},
   "outputs": [],
   "source": [
    "import numpy as np"
   ]
  },
  {
   "cell_type": "code",
   "execution_count": 2,
   "metadata": {},
   "outputs": [
    {
     "name": "stdout",
     "output_type": "stream",
     "text": [
      "[[1 2 3]]\n"
     ]
    }
   ],
   "source": [
    "a = [1, 2, 3] # list\n",
    "print(np.array([a]))"
   ]
  },
  {
   "cell_type": "markdown",
   "metadata": {},
   "source": [
    "We encased the list a in brackets [a] before converting it to an array. We can also do as below. As row vectors and column vectors are technically matrices, we do not denote them with vector arrows anymore. We can now perform a matrix product on them and the result becomes a matrix also, but in this case it will contain just one single value."
   ]
  },
  {
   "cell_type": "code",
   "execution_count": 3,
   "metadata": {},
   "outputs": [
    {
     "name": "stdout",
     "output_type": "stream",
     "text": [
      "[[1 2 3]]\n"
     ]
    }
   ],
   "source": [
    "print(np.expand_dims(np.array(a), axis=0))"
   ]
  },
  {
   "cell_type": "markdown",
   "metadata": {},
   "source": [
    "**Transpose**"
   ]
  },
  {
   "cell_type": "markdown",
   "metadata": {},
   "source": [
    "We perform a martix product on these two matrices instead of dot product which gives us a result as a one value matrix. The shape of the matrixes are (1,**3**) and (**3**,1). The **index 1** of first matrix and **index 0** of the second matrix must match. They will not match unless we transpose. That is the reason we need to **transpose** the second matrix. "
   ]
  },
  {
   "cell_type": "code",
   "execution_count": 4,
   "metadata": {},
   "outputs": [
    {
     "name": "stdout",
     "output_type": "stream",
     "text": [
      "[[20]]\n"
     ]
    }
   ],
   "source": [
    "a = [1, 2, 3]\n",
    "b = [2, 3, 4]\n",
    "\n",
    "a = np.array([a])\n",
    "b = np.array([b]).T  # transpose\n",
    "\n",
    "print(np.dot(a,b)) \n",
    "# the dot product and matrix products are both implemented in a single\n",
    "# method in numpy: np.dot()"
   ]
  },
  {
   "cell_type": "markdown",
   "metadata": {},
   "source": [
    "**Layer of Neurons**\n",
    "  \n",
    "We add a layer of neurons and a batch of data. Let´s consider the inputs and weights again. We need to perform the dot products on all of the vectors that consists of both input and weight matrices, that is the matri product from above. We only need to do the transposition on the dot products second argument, which is the matrix of weights, to turn the row vectors it currently has into column vectors."
   ]
  },
  {
   "cell_type": "markdown",
   "metadata": {},
   "source": [
    "In the first examples we could use the dot product without the transpose because inputs were just one vector. When inputs are a tach of input data, a matrix, we need to perform the matrix product. Thus the shape of the index 1 of the first matrix and index 0 of the second matrix must match."
   ]
  },
  {
   "cell_type": "code",
   "execution_count": 7,
   "metadata": {},
   "outputs": [],
   "source": [
    "inputs = [[1.0, 2.0, 3.0, 2.5],\n",
    "          [2.0, 5.0, -1.0, 2.0],\n",
    "          [-1.5, 2.7, 3.3, -0.8]]\n",
    "weights = [[0.2, 0.8, -0.5, 1.0],\n",
    "           [0.5, -0.91, 0.26, -0.5],\n",
    "           [-0.26, -0.27, 0.17, 0.87]]"
   ]
  },
  {
   "cell_type": "code",
   "execution_count": 15,
   "metadata": {},
   "outputs": [
    {
     "name": "stdout",
     "output_type": "stream",
     "text": [
      "[[[[ 1.   2.   3.   2.5]\n",
      "   [ 2.   5.  -1.   2. ]\n",
      "   [-1.5  2.7  3.3 -0.8]]]]\n",
      "[[[ 0.2   0.8  -0.5   1.  ]\n",
      "  [ 0.5  -0.91  0.26 -0.5 ]\n",
      "  [-0.26 -0.27  0.17  0.87]]]\n"
     ]
    }
   ],
   "source": [
    "inputs = np.array([inputs])\n",
    "weights = np.array([weights])\n",
    "print(inputs)\n",
    "print(weights)"
   ]
  },
  {
   "cell_type": "markdown",
   "metadata": {},
   "source": [
    "Now the shapess are (3,**4**) and (**3**,4). There is no  match. So we need to transpose to perform the matrix product."
   ]
  },
  {
   "cell_type": "code",
   "execution_count": 16,
   "metadata": {},
   "outputs": [
    {
     "name": "stdout",
     "output_type": "stream",
     "text": [
      "[[[[[ 1.   2.   3.   2.5]\n",
      "    [ 2.   5.  -1.   2. ]\n",
      "    [-1.5  2.7  3.3 -0.8]]]]]\n",
      "[[[[ 0.2 ]]\n",
      "\n",
      "  [[ 0.5 ]]\n",
      "\n",
      "  [[-0.26]]]\n",
      "\n",
      "\n",
      " [[[ 0.8 ]]\n",
      "\n",
      "  [[-0.91]]\n",
      "\n",
      "  [[-0.27]]]\n",
      "\n",
      "\n",
      " [[[-0.5 ]]\n",
      "\n",
      "  [[ 0.26]]\n",
      "\n",
      "  [[ 0.17]]]\n",
      "\n",
      "\n",
      " [[[ 1.  ]]\n",
      "\n",
      "  [[-0.5 ]]\n",
      "\n",
      "  [[ 0.87]]]]\n"
     ]
    }
   ],
   "source": [
    "print(np.array([inputs]))\n",
    "print(np.array([weights]).T)"
   ]
  },
  {
   "cell_type": "markdown",
   "metadata": {},
   "source": [
    "Now the shapes of the matrices match (3,**4**) and (**4**,3)  \n",
    "  \n",
    "The dot products takes the row from the first array and the column of the second array, both were previously aligned by row, after transposing the second array the shape is changes to be aligned by column. The output of the matrix product wwill consist of outputs of all neurons after hte operation is performed on each input sample:"
   ]
  },
  {
   "cell_type": "code",
   "execution_count": 21,
   "metadata": {},
   "outputs": [
    {
     "data": {
      "text/plain": [
       "array([[ 2.8  , -1.79 ,  1.885],\n",
       "       [ 6.9  , -4.81 , -0.3  ],\n",
       "       [-0.59 , -1.949, -0.474]])"
      ]
     },
     "execution_count": 21,
     "metadata": {},
     "output_type": "execute_result"
    }
   ],
   "source": [
    "inputs = [[1.0, 2.0, 3.0, 2.5],\n",
    "          [2.0, 5.0, -1.0, 2.0],\n",
    "          [-1.5, 2.7, 3.3, -0.8]]\n",
    "weights = [[0.2, 0.8, -0.5, 1.0],\n",
    "           [0.5, -0.91, 0.26, -0.5],\n",
    "           [-0.26, -0.27, 0.17, 0.87]]\n",
    "\n",
    "np.dot(inputs, np.array(weights).T)"
   ]
  },
  {
   "cell_type": "code",
   "execution_count": 23,
   "metadata": {},
   "outputs": [
    {
     "name": "stdout",
     "output_type": "stream",
     "text": [
      "[[ 4.8    1.21   2.385]\n",
      " [ 8.9   -1.81   0.2  ]\n",
      " [ 1.41   1.051  0.026]]\n"
     ]
    }
   ],
   "source": [
    "biases = [2.0, 3.0, 0.5] # adding the biases\n",
    "layer_outputs = np.dot(inputs, np.array(weights).T) + biases\n",
    "\n",
    "print(layer_outputs) # this is the matrix product plus the biases"
   ]
  },
  {
   "cell_type": "markdown",
   "metadata": {},
   "source": [
    "The result shows that the neural network takes in a group of input samples and outpus a group of predictions. If one has used any DL libraries, this is why you pass in a list of inputs, even if it is just one feature set) and are returned a list or predictions, even if there is only one prediction."
   ]
  }
 ],
 "metadata": {
  "kernelspec": {
   "display_name": "Python 3",
   "language": "python",
   "name": "python3"
  },
  "language_info": {
   "codemirror_mode": {
    "name": "ipython",
    "version": 3
   },
   "file_extension": ".py",
   "mimetype": "text/x-python",
   "name": "python",
   "nbconvert_exporter": "python",
   "pygments_lexer": "ipython3",
   "version": "3.8.5"
  }
 },
 "nbformat": 4,
 "nbformat_minor": 4
}
