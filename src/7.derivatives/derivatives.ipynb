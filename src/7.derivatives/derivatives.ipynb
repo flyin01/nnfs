{
 "cells": [
  {
   "cell_type": "markdown",
   "metadata": {},
   "source": [
    "#### Derivatives  \n",
    "* The impact of parameter on the output\n",
    "* The slope  \n",
    "* Numerical derivative  \n",
    "\n",
    "Randomly changing and looking for optimal weights and biases is not fruitful as we saw previously for one main reason,, the possible combinations of weights and biases is infinite and we need some smarter method besides pure luch to achieve any success. Each weight and bias may also influence the loss in different degrees, this depends on the parameters themselves as well as the current sample, which is an input to the first layer. These inputs are then multiplied by the weights, so input data affect the neuron´s output and affects the impact that the weights make on the loss. Same principle affect the biases and parameters in the next layer, taking previous layers output as inputs. Both parameters and sampls impact the output values. The function of how the weight and the bias impact the overall loss is not necessarily linear.To be able know *how* to adjust the weights and biases we first need to understand their impact on the loss.  \n",
    "  \n",
    "Even though we calculate the loss from the model´s output, not weights/biases, the latter directly impact the loss.  \n",
    "  \n",
    "In coming sections we will describe how this happens by explaining partial derivatives, gradients, gradient descent and backpropagation. We will calculate how much each singular weith and bias changes the loss value, how much impact it has on it, given a sample (as each sample produces a separate output and thus also a separate loss value).  \n",
    "  \n",
    "Our goal here is to decrease loss, we will do this using gradient descent. Gradient, on the other hand, is a result of the calculation of the partial derivatives and we will backpropagate it using the chain rule to update all of the weights and biases.  \n",
    "  \n",
    "To understand partial derivatives, we start first by derivatives, which is a special case of partial derivatives, they are calculated from functions taking single parameters.  \n",
    "  \n",
    "**The impact of a Parameter on the Output**  \n",
    "  \n",
    "Start with a simple function that takes x as an input:"
   ]
  },
  {
   "cell_type": "code",
   "execution_count": 1,
   "metadata": {},
   "outputs": [],
   "source": [
    "def f(x):\n",
    "    return 2*x"
   ]
  },
  {
   "cell_type": "markdown",
   "metadata": {},
   "source": [
    "We also create some code to visualize the data and create an array of 5 inputs, calculate the function output for each of the input values and plot the result as lines between consecutive points. These points coordinates are inputs as x and function outputs as y:"
   ]
  },
  {
   "cell_type": "code",
   "execution_count": 2,
   "metadata": {},
   "outputs": [
    {
     "name": "stdout",
     "output_type": "stream",
     "text": [
      "[0 1 2 3 4]\n",
      "[0 2 4 6 8]\n"
     ]
    }
   ],
   "source": [
    "import matplotlib.pyplot as plt\n",
    "import numpy as np\n",
    "\n",
    "def f(x):\n",
    "    return 2*x\n",
    "\n",
    "x = np.array(range(5))\n",
    "y = f(x)\n",
    "\n",
    "print(x)\n",
    "print(y)"
   ]
  },
  {
   "cell_type": "code",
   "execution_count": 4,
   "metadata": {},
   "outputs": [
    {
     "data": {
      "image/png": "[encoded data removed]",
      "text/plain": [
       "<Figure size 432x288 with 1 Axes>"
      ]
     },
     "metadata": {
      "needs_background": "light"
     },
     "output_type": "display_data"
    }
   ],
   "source": [
    "plt.plot(x,y)\n",
    "plt.title(\"Linear function y=2x\")\n",
    "plt.show()"
   ]
  },
  {
   "cell_type": "markdown",
   "metadata": {},
   "source": [
    "**The Slope**  \n",
    "The above line looks like an outpu of the f(x) = 2x. How to define the impact x will have on y? We can say that y is double x. The impact of a linear function can be describes using algebra as the slope. The slope of a line is:  \n",
    "  \n",
    "Change in y / Change in x  \n",
    "  \n",
    "Also describe as delta y divided by delta x.  \n",
    "  \n",
    "Slope = delta y / delta x  \n",
    "  \n",
    "point1 = [0,0] (x,y)  \n",
    "point2 = [1,2]  \n",
    "  \n",
    "delta x = 1-0 = 1  \n",
    "delta y = 2-0 = 2  \n",
    "\n",
    "Slope = 2/1 = 2"
   ]
  },
  {
   "cell_type": "code",
   "execution_count": 5,
   "metadata": {},
   "outputs": [
    {
     "name": "stdout",
     "output_type": "stream",
     "text": [
      "2.0\n"
     ]
    }
   ],
   "source": [
    "# calculate the slope using numpy\n",
    "\n",
    "print((y[1]-y[0]) / (x[1]-x[0]))"
   ]
  },
  {
   "cell_type": "markdown",
   "metadata": {},
   "source": [
    "The slope of 2 in this case is quite obvious, but what about a nonlinear function like:  \n",
    "f(x) = 2x^2 "
   ]
  },
  {
   "cell_type": "code",
   "execution_count": 12,
   "metadata": {},
   "outputs": [],
   "source": [
    "def f(x):\n",
    "    return 2*x**2"
   ]
  },
  {
   "cell_type": "markdown",
   "metadata": {},
   "source": [
    "This function creates a graph that is not a straing line. Can we measure the slope of this curve? Depending on which 2 points we choose to use, we will measure varying slopes."
   ]
  },
  {
   "cell_type": "code",
   "execution_count": 7,
   "metadata": {},
   "outputs": [
    {
     "name": "stdout",
     "output_type": "stream",
     "text": [
      "[0 1 2 3 4]\n",
      "[ 0  2  8 18 32]\n"
     ]
    }
   ],
   "source": [
    "# Calculate function outputs for new function\n",
    "y = f(x)\n",
    "\n",
    "print(x)\n",
    "print(y)"
   ]
  },
  {
   "cell_type": "code",
   "execution_count": 8,
   "metadata": {},
   "outputs": [
    {
     "name": "stdout",
     "output_type": "stream",
     "text": [
      "2.0\n"
     ]
    }
   ],
   "source": [
    "# point 1\n",
    "print((y[1]-y[0]) / (x[1]-x[0]))"
   ]
  },
  {
   "cell_type": "code",
   "execution_count": 9,
   "metadata": {},
   "outputs": [
    {
     "name": "stdout",
     "output_type": "stream",
     "text": [
      "10.0\n"
     ]
    }
   ],
   "source": [
    "# point 2\n",
    "print((y[3]-y[2]) / (x[3]-x[2]))"
   ]
  },
  {
   "cell_type": "markdown",
   "metadata": {},
   "source": [
    "How can we measure the impact that x has on y in this nonlinear function? Calculus propose we measure the slope of **the tangent line** at x (for a specific input value to the function),giving us the **instantenous slope** (slope in that point), which is the **derivative**. The tangent line is created by drawing a line between two points that are \"infinitely close\" on a curve, but the curve has to be differentiable at the derivationpoint.  \n",
    "  \n",
    "Since this is a curve, there is no single slope. The slope depends on where we measure it. As an example we can approximate a derivative of the function at x by using this point and another one also taken at x, but with a very small delta added to it, let´s say 0.0001. This is a common choice since it does not introduce too large error or cause the whole expression to be numerically unstable.  "
   ]
  },
  {
   "cell_type": "code",
   "execution_count": 13,
   "metadata": {},
   "outputs": [
    {
     "name": "stdout",
     "output_type": "stream",
     "text": [
      "4.0001999999987845\n"
     ]
    }
   ],
   "source": [
    "p2_delta = 0.0001\n",
    "\n",
    "x1 = 1\n",
    "x2 = x1 + p2_delta  # add a delta\n",
    "\n",
    "y1 = f(x1) # result at the derivative point\n",
    "y2 = f(x2) # result at the other, close point\n",
    "\n",
    "approximate_derivative = (y2-y1)/(x2-x1)\n",
    "print(approximate_derivative)"
   ]
  },
  {
   "cell_type": "markdown",
   "metadata": {},
   "source": [
    "This result is very close to the derivative of 2x^2 at x=1 which is 4. The difference comes from the method used to compute the tangent. We chose a small enough delta to approximate the derivative as accurately as possible while large enough to prevent a rounding error. Our delta cannot surpass the limitations of Python´s floating-point precision (cant be too small as it might be rounded to 0). Our solution here then has a small visible error but on the other hand it remains numerically stable."
   ]
  },
  {
   "cell_type": "markdown",
   "metadata": {},
   "source": [
    "**The Numberical Derivative**  \n",
    "tbd... JATKA TÄSTÄ"
   ]
  },
  {
   "cell_type": "code",
   "execution_count": null,
   "metadata": {},
   "outputs": [],
   "source": [
    "# JATKA TÄSTÄ"
   ]
  },
  {
   "cell_type": "code",
   "execution_count": 17,
   "metadata": {},
   "outputs": [
    {
     "data": {
      "image/png": "[encoded data removed]",
      "text/plain": [
       "<Figure size 432x288 with 1 Axes>"
      ]
     },
     "metadata": {
      "needs_background": "light"
     },
     "output_type": "display_data"
    }
   ],
   "source": [
    "import matplotlib.pyplot as pl\n",
    "import numpy as np\n",
    "\n",
    "def f(x):\n",
    "    return 2*x**2\n",
    "\n",
    "# np.arange(start, stop, step) to give a smoother line\n",
    "x = np.arange(0, 5, 0.001)\n",
    "y = f(x)\n",
    "\n",
    "plt.title(\"Nonlinear function y=2x^2\")\n",
    "plt.plot(x,y)\n",
    "plt.show()"
   ]
  }
 ],
 "metadata": {
  "kernelspec": {
   "display_name": "Python 3",
   "language": "python",
   "name": "python3"
  },
  "language_info": {
   "codemirror_mode": {
    "name": "ipython",
    "version": 3
   },
   "file_extension": ".py",
   "mimetype": "text/x-python",
   "name": "python",
   "nbconvert_exporter": "python",
   "pygments_lexer": "ipython3",
   "version": "3.8.5"
  }
 },
 "nbformat": 4,
 "nbformat_minor": 4
}
