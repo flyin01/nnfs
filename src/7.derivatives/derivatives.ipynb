{
 "cells": [
  {
   "cell_type": "markdown",
   "metadata": {},
   "source": [
    "#### Derivatives  \n",
    "* The impact of parameter on the output\n",
    "* The slope  \n",
    "* Numerical derivative  \n",
    "\n",
    "Randomly changing and looking for optimal weights and biases is not fruitful as we saw previously for one main reason,, the possible combinations of weights and biases is infinite and we need some smarter method besides pure luch to achieve any success. Each weight and bias may also influence the loss in different degrees, this depends on the parameters themselves as well as the current sample, which is an input to the first layer. These inputs are then multiplied by the weights, so input data affect the neuron´s output and affects the impact that the weights make on the loss. Same principle affect the biases and parameters in the next layer, taking previous layers output as inputs. Both parameters and sampls impact the output values. The function of how the weight and the bias impact the overall loss is not necessarily linear.To be able know *how* to adjust the weights and biases we first need to understand their impact on the loss.  \n",
    "  \n",
    "Even though we calculate the loss from the model´s output, not weights/biases, the latter directly impact the loss.  \n",
    "  \n",
    "In coming sections we will describe how this happens by explaining partial derivatives, gradients, gradient descent and backpropagation. We will calculate how much each singular weith and bias changes the loss value, how much impact it has on it, given a sample (as each sample produces a separate output and thus also a separate loss value).  \n",
    "  \n",
    "Our goal here is to decrease loss, we will do this using gradient descent. Gradient, on the other hand, is a result of the calculation of the partial derivatives and we will backpropagate it using the chain rule to update all of the weights and biases.  \n",
    "  \n",
    "To understand partial derivatives, we start first by derivatives, which is a special case of partial derivatives, they are calculated from functions taking single parameters.  \n",
    "  \n",
    "**The impact of a Parameter on the Output**  \n",
    "  \n",
    "Start with a simple function that takes x as an input:"
   ]
  },
  {
   "cell_type": "code",
   "execution_count": 1,
   "metadata": {},
   "outputs": [],
   "source": [
    "def f(x):\n",
    "    return 2*x"
   ]
  },
  {
   "cell_type": "markdown",
   "metadata": {},
   "source": [
    "We also create some code to visualize the data and create an array of 5 inputs, calculate the function output for each of the input values and plot the result as lines between consecutive points. These points coordinates are inputs as x and function outputs as y:"
   ]
  },
  {
   "cell_type": "code",
   "execution_count": 2,
   "metadata": {},
   "outputs": [
    {
     "name": "stdout",
     "output_type": "stream",
     "text": [
      "[0 1 2 3 4]\n",
      "[0 2 4 6 8]\n"
     ]
    }
   ],
   "source": [
    "import matplotlib.pyplot as plt\n",
    "import numpy as np\n",
    "\n",
    "def f(x):\n",
    "    return 2*x\n",
    "\n",
    "x = np.array(range(5))\n",
    "y = f(x)\n",
    "\n",
    "print(x)\n",
    "print(y)"
   ]
  },
  {
   "cell_type": "code",
   "execution_count": 4,
   "metadata": {},
   "outputs": [
    {
     "data": {
      "image/png": "[encoded data removed]",
      "text/plain": [
       "<Figure size 432x288 with 1 Axes>"
      ]
     },
     "metadata": {
      "needs_background": "light"
     },
     "output_type": "display_data"
    }
   ],
   "source": [
    "plt.plot(x,y)\n",
    "plt.title(\"Linear function y=2x\")\n",
    "plt.show()"
   ]
  },
  {
   "cell_type": "markdown",
   "metadata": {},
   "source": [
    "**The Slope**  \n",
    "The above line looks like an outpu of the f(x) = 2x. How to define the impact x will have on y? We can say that y is double x. The impact of a linear function can be describes using algebra as the slope. The slope of a line is:  \n",
    "  \n",
    "Change in y / Change in x  \n",
    "  \n",
    "Also describe as delta y divided by delta x.  \n",
    "  \n",
    "Slope = delta y / delta x  \n",
    "  \n",
    "point1 = [0,0] (x,y)  \n",
    "point2 = [1,2]  \n",
    "  \n",
    "delta x = 1-0 = 1  \n",
    "delta y = 2-0 = 2  \n",
    "\n",
    "Slope = 2/1 = 2"
   ]
  },
  {
   "cell_type": "code",
   "execution_count": 5,
   "metadata": {},
   "outputs": [
    {
     "name": "stdout",
     "output_type": "stream",
     "text": [
      "2.0\n"
     ]
    }
   ],
   "source": [
    "# calculate the slope using numpy\n",
    "\n",
    "print((y[1]-y[0]) / (x[1]-x[0]))"
   ]
  },
  {
   "cell_type": "markdown",
   "metadata": {},
   "source": [
    "The slope of 2 in this case is quite obvious, but what about a nonlinear function like:  \n",
    "f(x) = 2x^2 "
   ]
  },
  {
   "cell_type": "code",
   "execution_count": 9,
   "metadata": {},
   "outputs": [],
   "source": [
    "def f(x):\n",
    "    return 2*x**2"
   ]
  },
  {
   "cell_type": "markdown",
   "metadata": {},
   "source": [
    "This function creates a graph that is not a straing line. Can we measure the slope of this curve? Depending on which 2 points we choose to use, we will measure varying slopes."
   ]
  },
  {
   "cell_type": "code",
   "execution_count": 10,
   "metadata": {},
   "outputs": [
    {
     "name": "stdout",
     "output_type": "stream",
     "text": [
      "[0 1 2 3 4]\n",
      "[ 0  2  8 18 32]\n"
     ]
    }
   ],
   "source": [
    "# Calculate function outputs for new function\n",
    "y = f(x)\n",
    "\n",
    "print(x)\n",
    "print(y)"
   ]
  },
  {
   "cell_type": "code",
   "execution_count": 11,
   "metadata": {},
   "outputs": [
    {
     "name": "stdout",
     "output_type": "stream",
     "text": [
      "2.0\n"
     ]
    }
   ],
   "source": [
    "# point 1\n",
    "print((y[1]-y[0]) / (x[1]-x[0]))"
   ]
  },
  {
   "cell_type": "code",
   "execution_count": 12,
   "metadata": {},
   "outputs": [
    {
     "name": "stdout",
     "output_type": "stream",
     "text": [
      "10.0\n"
     ]
    }
   ],
   "source": [
    "# point 2\n",
    "print((y[3]-y[2]) / (x[3]-x[2]))"
   ]
  },
  {
   "cell_type": "markdown",
   "metadata": {},
   "source": [
    "How can we measure the impact that x has on y in this nonlinear function? Calculus propose we measure the slope of **the tangent line** at x (for a specific input value to the function),giving us the **instantenous slope** (slope in that point), which is the **derivative**. The tangent line is created by drawing a line between two points that are \"infinitely close\" on a curve, but the curve has to be differentiable at the derivationpoint.  \n",
    "  \n",
    "Since this is a curve, there is no single slope. The slope depends on where we measure it. As an example we can approximate a derivative of the function at x by using this point and another one also taken at x, but with a very small delta added to it, let´s say 0.0001. This is a common choice since it does not introduce too large error or cause the whole expression to be numerically unstable.  "
   ]
  },
  {
   "cell_type": "code",
   "execution_count": 13,
   "metadata": {},
   "outputs": [
    {
     "name": "stdout",
     "output_type": "stream",
     "text": [
      "4.0001999999987845\n"
     ]
    }
   ],
   "source": [
    "p2_delta = 0.0001\n",
    "\n",
    "x1 = 1\n",
    "x2 = x1 + p2_delta  # add a delta\n",
    "\n",
    "y1 = f(x1) # result at the derivative point\n",
    "y2 = f(x2) # result at the other, close point\n",
    "\n",
    "approximate_derivative = (y2-y1)/(x2-x1)\n",
    "print(approximate_derivative)"
   ]
  },
  {
   "cell_type": "markdown",
   "metadata": {},
   "source": [
    "This result is very close to the derivative of 2x^2 at x=1 which is 4. The difference comes from the method used to compute the tangent. We chose a small enough delta to approximate the derivative as accurately as possible while large enough to prevent a rounding error. Our delta cannot surpass the limitations of Python´s floating-point precision (cant be too small as it might be rounded to 0). Our solution here then has a small visible error but on the other hand it remains numerically stable."
   ]
  },
  {
   "cell_type": "markdown",
   "metadata": {},
   "source": [
    "**The Numerical Derivative**  \n",
    "This method of calculating the derivative is called the numerical differentiation, calculating the slpe of the tangent line using two *infinitely* close points, or as in the code example the tangent line from two points that are \"sufficiently close\". Now we will visualize the lines and how they change depending on where we calculate them. We start by making the graph of the function more grannular using numpy´s `arrange()`, this allows us to plot smaller steps. This function takes `start, stop` and `step` parameters, so we can take fractions of steps like 0.001 at the time."
   ]
  },
  {
   "cell_type": "code",
   "execution_count": 17,
   "metadata": {},
   "outputs": [
    {
     "data": {
      "image/png": "[encoded data removed]",
      "text/plain": [
       "<Figure size 432x288 with 1 Axes>"
      ]
     },
     "metadata": {
      "needs_background": "light"
     },
     "output_type": "display_data"
    }
   ],
   "source": [
    "import matplotlib.pyplot as pl\n",
    "import numpy as np\n",
    "\n",
    "def f(x):\n",
    "    return 2*x**2\n",
    "\n",
    "# np.arange(start, stop, step) to give a smoother line\n",
    "x = np.arange(0, 5, 0.001)\n",
    "y = f(x)\n",
    "\n",
    "plt.title(\"Nonlinear function y=2x^2\")\n",
    "plt.plot(x,y)\n",
    "plt.show()"
   ]
  },
  {
   "cell_type": "markdown",
   "metadata": {},
   "source": [
    "To draw the tangent lines, we will derive the function for the tangent line at a point and plot it on the graph at that point. The function is a straight line *y = mx + b*. Where *m* is the *approximate derivative* that we already calculated and x is the input and b is the y-intercept for us to calculate. To calculate b, the formula is *b = y - m*. Given this equation for *b*, the approximation of the derivative and the same \"close enough\" point (x and y coordinates) we can substitute them in the equation and get the y-intercept for the tangent line at the derivative point:"
   ]
  },
  {
   "cell_type": "code",
   "execution_count": 16,
   "metadata": {},
   "outputs": [
    {
     "name": "stdout",
     "output_type": "stream",
     "text": [
      "2.00040002\n",
      "1.0001\n",
      "-2.0001999999987845\n"
     ]
    }
   ],
   "source": [
    "b = y2 - approximate_derivative*x2\n",
    "\n",
    "print(y2)\n",
    "print(x2)\n",
    "print(b)"
   ]
  },
  {
   "cell_type": "code",
   "execution_count": 24,
   "metadata": {},
   "outputs": [
    {
     "name": "stdout",
     "output_type": "stream",
     "text": [
      "(2, 8) (2.0001, 8.000800020000002)\n",
      "Approximate derivative for f(x) where x = 2 is 8.000199999998785\n"
     ]
    },
    {
     "data": {
      "image/png": "[encoded data removed]",
      "text/plain": [
       "<Figure size 432x288 with 1 Axes>"
      ]
     },
     "metadata": {
      "needs_background": "light"
     },
     "output_type": "display_data"
    }
   ],
   "source": [
    "# Putting it together\n",
    "\n",
    "import matplotlib.pyplot as plt\n",
    "import numpy as np\n",
    "\n",
    "def f(x):\n",
    "    return 2*x**2\n",
    "\n",
    "# np arange(start, stop, step) to give smoother line\n",
    "x = np.arange(0, 5, 0.001)\n",
    "y = f(x)\n",
    "plt.plot(x, y)\n",
    "\n",
    "# the point and the \"close enough\" point\n",
    "p2_delta = 0.0001\n",
    "x1 = 2\n",
    "x2 = x1+p2_delta\n",
    "\n",
    "y1 = f(x1)\n",
    "y2 = f(x2)\n",
    "\n",
    "print((x1, y1), (x2, y2))\n",
    "\n",
    "# Derivative approximation and y-intercept for the tangent line\n",
    "approximate_derivative = (y2-y1)/(x2-x1)\n",
    "b = y2 - approximate_derivative*x2\n",
    "\n",
    "# We put the tangent line calculation into a function we it can be called multiple times for diff values of x\n",
    "# approximate_derivatie and b are constans for the given function thus calculated once above this funciton\n",
    "def tangent_line(x):\n",
    "    return approximate_derivative*x + b\n",
    "\n",
    "# Plotting the tangent line, +/- 0.9 to draw the tangent line on the graph then we can calculate the y for\n",
    "# given x using the tangent_line function\n",
    "# matplot lib will draw the line for us through these points\n",
    "to_plot = [x1-0.9, x1, x1+0.9]\n",
    "plt.plot(to_plot, [tangent_line(i) for i in to_plot])\n",
    "\n",
    "print('Approximate derivative for f(x)',\n",
    "     f'where x = {x1} is {approximate_derivative}')\n",
    "\n",
    "plt.show()"
   ]
  },
  {
   "cell_type": "markdown",
   "metadata": {},
   "source": [
    "The orange line is the approximate tangen line at x = 2 for the function f(x) = 2x^2. We care only about the *slope* of this tangent line but both visualizing and understanding the **tangent line** are important. The slope the the tangent line informs us about the *impact* that x has on this function at a particula point, called also the **instantaneous rate of change**. We will use this concept to determine the effect of a specific weight or bias on the overall loss function given a sample. We contnue above and add tangen lines at various inputs of x."
   ]
  },
  {
   "cell_type": "code",
   "execution_count": 26,
   "metadata": {},
   "outputs": [
    {
     "name": "stdout",
     "output_type": "stream",
     "text": [
      "(0, 0) (0.0001, 2e-08)\n",
      "Approxaimte derivative for f(x) where x = 0 is 0.00019999999999999998\n",
      "(1, 2) (1.0001, 2.00040002)\n",
      "Approxaimte derivative for f(x) where x = 1 is 4.0001999999987845\n",
      "(2, 8) (2.0001, 8.000800020000002)\n",
      "Approxaimte derivative for f(x) where x = 2 is 8.000199999998785\n",
      "(3, 18) (3.0001, 18.001200020000002)\n",
      "Approxaimte derivative for f(x) where x = 3 is 12.000199999998785\n",
      "(4, 32) (4.0001, 32.00160002)\n",
      "Approxaimte derivative for f(x) where x = 4 is 16.000200000016548\n"
     ]
    },
    {
     "data": {
      "image/png": "[encoded data removed]",
      "text/plain": [
       "<Figure size 432x288 with 1 Axes>"
      ]
     },
     "metadata": {
      "needs_background": "light"
     },
     "output_type": "display_data"
    }
   ],
   "source": [
    "# Multiple tangent lines to the graph\n",
    "import matplotlib.pyplot as plt\n",
    "import numpy as np\n",
    "\n",
    "def f(x):\n",
    "    return 2*x**2\n",
    "\n",
    "# np arange(start, stop, step) to give smoother line\n",
    "x = np.arange(0, 5, 0.001)\n",
    "y = f(x)\n",
    "plt.plot(x, y)\n",
    "\n",
    "colors = ['k', 'g', 'r', 'b', 'c']\n",
    "\n",
    "def approximate_tangent_line(x, approximate_derivative):\n",
    "    return (approximate_derivative*x) + b\n",
    "\n",
    "for i in range(5):\n",
    "    p2_delta = 0.0001\n",
    "    x1 = i\n",
    "    x2 = x1+p2_delta\n",
    "    \n",
    "    y1 = f(x1)\n",
    "    y2 = f(x2)\n",
    "    \n",
    "    print((x1, y1), (x2, y2))\n",
    "    approximate_derivative = ((y2-y1)/(x2-x1))\n",
    "    b = y2-(approximate_derivative*x2)\n",
    "\n",
    "    to_plot = [x1-0.9, x1, x1+0.9]\n",
    "    \n",
    "    plt.scatter(x1, y1, c=colors[i])\n",
    "    plt.plot([point for point in to_plot],\n",
    "             [approximate_tangent_line(point, approximate_derivative)\n",
    "                 for point in to_plot],\n",
    "             c=colors[i])\n",
    "    \n",
    "    print('Approxaimte derivative for f(x)',\n",
    "         f'where x = {x1} is {approximate_derivative}')\n",
    "\n",
    "plt.show()"
   ]
  },
  {
   "cell_type": "markdown",
   "metadata": {},
   "source": [
    "For this simple function, f(x) = 2x^2, we didn´t pay a high penalty by approximating the derivative like this, and reeived a value that was close enought for our needs.  \n",
    "  \n",
    "The problem is that the actual function in our neural network is not so simple. The loss function contains all of the layers, weights and biases - it is an massive function that is operating multiple dimension. Calculating derivatives using **numerical differentiation** requires multiple forward passes for a single parameter update (talk about this in ch 10). We need to perform forward pass thgouth the model again to see the change of the loss value. Next we need to calculate the **derivative** and revert the parameter change that we made for this calculation. We must repeat this for every weight and bias and for every sample, which will be very time-consuming. We can think of this method as brute forcing the derivative calculations.  \n",
    "  \n",
    "In this chapter we covered **derivative** and the **slope** of the **tangent line** for a function that takes a single parameter as input. We will use this to calcualte the slopes of the loss function at each of the weight and bias points, this bring us to the multivarate function, which is a function that takes multiple parameters and is the topic for next part, the partial derivative."
   ]
  }
 ],
 "metadata": {
  "kernelspec": {
   "display_name": "Python 3",
   "language": "python",
   "name": "python3"
  },
  "language_info": {
   "codemirror_mode": {
    "name": "ipython",
    "version": 3
   },
   "file_extension": ".py",
   "mimetype": "text/x-python",
   "name": "python",
   "nbconvert_exporter": "python",
   "pygments_lexer": "ipython3",
   "version": "3.8.5"
  }
 },
 "nbformat": 4,
 "nbformat_minor": 4
}
